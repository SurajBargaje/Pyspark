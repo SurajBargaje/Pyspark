{
  "nbformat": 4,
  "nbformat_minor": 0,
  "metadata": {
    "colab": {
      "provenance": []
    },
    "kernelspec": {
      "name": "python3",
      "display_name": "Python 3"
    },
    "language_info": {
      "name": "python"
    }
  },
  "cells": [
    {
      "cell_type": "markdown",
      "source": [
        "#Json Data handling"
      ],
      "metadata": {
        "id": "HOITHcD5k6Ml"
      }
    },
    {
      "cell_type": "code",
      "execution_count": null,
      "metadata": {
        "id": "k6Y-462uk3wo"
      },
      "outputs": [],
      "source": [
        "#Download sample file data\n",
        "https://kloudkraft-dumps.s3.us-west-1.amazonaws.com/json/books1.json\n",
        "https://kloudkraft-dumps.s3.us-west-1.amazonaws.com/json/colors.json"
      ]
    },
    {
      "cell_type": "code",
      "source": [
        "#Import Sparksesion\n"
      ],
      "metadata": {
        "id": "6TeLDAq0k58K"
      },
      "execution_count": null,
      "outputs": []
    },
    {
      "cell_type": "code",
      "source": [
        "#Create SparkSession\n"
      ],
      "metadata": {
        "id": "VrGF2m1dlsGn"
      },
      "execution_count": null,
      "outputs": []
    },
    {
      "cell_type": "code",
      "source": [
        "#Create dataframe from parquet file\n"
      ],
      "metadata": {
        "id": "hmCPMsMRlsJb"
      },
      "execution_count": null,
      "outputs": []
    },
    {
      "cell_type": "code",
      "source": [
        "#Print dataframe schema\n"
      ],
      "metadata": {
        "id": "ExE-kNcwlsME"
      },
      "execution_count": null,
      "outputs": []
    },
    {
      "cell_type": "code",
      "source": [
        "#Show dataframe\n"
      ],
      "metadata": {
        "id": "ZQToN44IlsOt"
      },
      "execution_count": null,
      "outputs": []
    },
    {
      "cell_type": "markdown",
      "source": [
        "* Perform any 3 data cleaning operations"
      ],
      "metadata": {
        "id": "YnPqSKSEmS1_"
      }
    },
    {
      "cell_type": "code",
      "source": [
        "#O1\n",
        "\n",
        "\n"
      ],
      "metadata": {
        "id": "yk0D7EAwlsSU"
      },
      "execution_count": null,
      "outputs": []
    },
    {
      "cell_type": "code",
      "source": [
        "#O2\n",
        "\n",
        "\n"
      ],
      "metadata": {
        "id": "72KXSX-umb4c"
      },
      "execution_count": null,
      "outputs": []
    },
    {
      "cell_type": "code",
      "source": [
        "#O3\n",
        "\n",
        "\n"
      ],
      "metadata": {
        "id": "I2eV7jKVmb7Q"
      },
      "execution_count": null,
      "outputs": []
    },
    {
      "cell_type": "markdown",
      "source": [
        "* Fetch any 5 insights from data"
      ],
      "metadata": {
        "id": "WotP1zJFmfyo"
      }
    },
    {
      "cell_type": "code",
      "source": [
        "#Transformation1\n",
        "\n"
      ],
      "metadata": {
        "id": "HQG8Eu4IlsU6"
      },
      "execution_count": null,
      "outputs": []
    },
    {
      "cell_type": "code",
      "source": [
        "#Transformation2\n",
        "\n",
        "\n"
      ],
      "metadata": {
        "id": "4A3o6h9MlsW6"
      },
      "execution_count": null,
      "outputs": []
    },
    {
      "cell_type": "code",
      "source": [
        "#Transformation3\n",
        "\n",
        "\n"
      ],
      "metadata": {
        "id": "rtLZn4CwmnVu"
      },
      "execution_count": null,
      "outputs": []
    },
    {
      "cell_type": "code",
      "source": [
        "#Transformation4\n",
        "\n",
        "\n"
      ],
      "metadata": {
        "id": "zuLy9UKGmnYz"
      },
      "execution_count": null,
      "outputs": []
    },
    {
      "cell_type": "code",
      "source": [
        "#Transformation5\n",
        "\n",
        "\n"
      ],
      "metadata": {
        "id": "PoCICV0Wmnbg"
      },
      "execution_count": null,
      "outputs": []
    }
  ]
}