{
  "nbformat": 4,
  "nbformat_minor": 0,
  "metadata": {
    "colab": {
      "provenance": []
    },
    "kernelspec": {
      "name": "python3",
      "display_name": "Python 3"
    },
    "language_info": {
      "name": "python"
    }
  },
  "cells": [
    {
      "cell_type": "code",
      "execution_count": null,
      "metadata": {
        "id": "vpo5Vr0QiMUE"
      },
      "outputs": [],
      "source": [
        "#Create local file with the following data\n",
        "\n",
        "Complete the following code using pyspark RDDs\n",
        "\n",
        "movie.csv\n",
        "movieId,moviename,director,year\n",
        "200,shawshank,FrankD,1994\n",
        "201,saw,JamesW,2004\n",
        "202,avengers,JossW,2012\n",
        "204,mi,ChristopherMcq,2018\n",
        "205,wrongturn,DeclanO,2011\n",
        "\n",
        "award.csv\n",
        "catalogId,movieId,awards\n",
        "11,200,2\n",
        "12,200,3\n",
        "13,201,1\n",
        "14,202,3\n",
        "15,202,5\n",
        "16,204,4\n",
        "17,205,1"
      ]
    },
    {
      "cell_type": "code",
      "source": [
        "#Import libraries & Create SparkSession\n"
      ],
      "metadata": {
        "id": "deuJPwWWiUqv"
      },
      "execution_count": null,
      "outputs": []
    },
    {
      "cell_type": "code",
      "source": [
        "#Create two dataframes using respective csv files from local storage\n"
      ],
      "metadata": {
        "id": "xgXdfz2HiUta"
      },
      "execution_count": null,
      "outputs": []
    },
    {
      "cell_type": "code",
      "source": [
        "#Create a new column called \"movieInfo\" in movies dataframe which includes movieName & Director\n"
      ],
      "metadata": {
        "id": "tvQmmuuSiUwI"
      },
      "execution_count": null,
      "outputs": []
    },
    {
      "cell_type": "code",
      "source": [
        "#Calculate total number of awards for each movie & display - movieID, movienName, awardsCount\n"
      ],
      "metadata": {
        "id": "7gl8AFTDiUzB"
      },
      "execution_count": null,
      "outputs": []
    },
    {
      "cell_type": "code",
      "source": [
        "#Get top three movies on the basis of number of awards\n"
      ],
      "metadata": {
        "id": "sPlzRfJtiU1W"
      },
      "execution_count": null,
      "outputs": []
    },
    {
      "cell_type": "code",
      "source": [
        "#Get top three latest movies\n"
      ],
      "metadata": {
        "id": "cLlpSGfqiU3n"
      },
      "execution_count": null,
      "outputs": []
    }
  ]
}